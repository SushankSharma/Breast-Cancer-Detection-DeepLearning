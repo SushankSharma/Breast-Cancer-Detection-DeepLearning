{
 "cells": [
  {
   "cell_type": "code",
   "execution_count": 38,
   "metadata": {},
   "outputs": [],
   "source": [
    "import numpy as np\n",
    "from keras.preprocessing.image import ImageDataGenerator, img_to_array, load_img\n",
    "from skimage import io\n",
    "import os\n",
    "from PIL import Image"
   ]
  },
  {
   "cell_type": "code",
   "execution_count": 39,
   "metadata": {},
   "outputs": [],
   "source": [
    "datagen = ImageDataGenerator(vertical_flip=True,horizontal_flip=True)  #Try other fill modes, e.g. nearest, reflect, wrap"
   ]
  },
  {
   "cell_type": "code",
   "execution_count": 40,
   "metadata": {},
   "outputs": [],
   "source": [
    "image_directory1 = 'F:/New folder1'\n",
    "image_directory2 = 'F:/New folder2'\n",
    "image_directory3 = 'F:/New folder3'\n",
    "image_directory4 = 'F:/New folder4'\n",
    "\n",
    "directory1='F:/Breast-Cancer/Original-Augmented/Benign'\n",
    "directory2='F:/Breast-Cancer/Original-Augmented/Malignant'\n",
    "directory3='F:/Breast-Cancer/Normalised-Augmented/Benign'\n",
    "directory4='F:/Breast-Cancer/Normalised-Augmented/Malignant'\n"
   ]
  },
  {
   "cell_type": "code",
   "execution_count": 41,
   "metadata": {},
   "outputs": [
    {
     "name": "stdout",
     "output_type": "stream",
     "text": [
      "Found 237 images belonging to 1 classes.\n"
     ]
    }
   ],
   "source": [
    "i = 0\n",
    "for batch in datagen.flow_from_directory(directory=image_directory1, \n",
    "                                         batch_size=16,  \n",
    "                                         target_size=(460, 700),\n",
    "                                         color_mode=\"rgb\",\n",
    "                                         save_to_dir=directory1,save_prefix='aug', \n",
    "                                         save_format='png'):\n",
    "    i += 1\n",
    "    if i > 200:\n",
    "        break \n"
   ]
  },
  {
   "cell_type": "code",
   "execution_count": 42,
   "metadata": {},
   "outputs": [
    {
     "name": "stdout",
     "output_type": "stream",
     "text": [
      "Found 788 images belonging to 1 classes.\n"
     ]
    }
   ],
   "source": [
    "i = 0\n",
    "for batch in datagen.flow_from_directory(directory=image_directory2, \n",
    "                                         batch_size=16,  \n",
    "                                         target_size=(460,700),\n",
    "                                         color_mode=\"rgb\",\n",
    "                                         save_to_dir=directory2,save_prefix='aug', \n",
    "                                         save_format='png'):\n",
    "    i += 1\n",
    "    if i > 200:\n",
    "        break "
   ]
  },
  {
   "cell_type": "code",
   "execution_count": 43,
   "metadata": {},
   "outputs": [
    {
     "name": "stdout",
     "output_type": "stream",
     "text": [
      "Found 237 images belonging to 1 classes.\n"
     ]
    }
   ],
   "source": [
    "i = 0\n",
    "for batch in datagen.flow_from_directory(directory=image_directory3, \n",
    "                                         batch_size=16,  \n",
    "                                         target_size=(460,700),\n",
    "                                         color_mode=\"rgb\",\n",
    "                                         save_to_dir=directory3,save_prefix='aug', \n",
    "                                         save_format='png'):\n",
    "    i += 1\n",
    "    if i > 200:\n",
    "        break "
   ]
  },
  {
   "cell_type": "code",
   "execution_count": 44,
   "metadata": {},
   "outputs": [
    {
     "name": "stdout",
     "output_type": "stream",
     "text": [
      "Found 788 images belonging to 1 classes.\n"
     ]
    }
   ],
   "source": [
    "i = 0\n",
    "for batch in datagen.flow_from_directory(directory=image_directory4, \n",
    "                                         batch_size=16,  \n",
    "                                         target_size=(460,700),\n",
    "                                         color_mode=\"rgb\",\n",
    "                                         save_to_dir=directory4,save_prefix='aug', \n",
    "                                         save_format='png'):\n",
    "    i += 1\n",
    "    if i > 200:\n",
    "        break "
   ]
  },
  {
   "cell_type": "code",
   "execution_count": null,
   "metadata": {},
   "outputs": [],
   "source": []
  }
 ],
 "metadata": {
  "kernelspec": {
   "display_name": "Python 3",
   "language": "python",
   "name": "python3"
  },
  "language_info": {
   "codemirror_mode": {
    "name": "ipython",
    "version": 3
   },
   "file_extension": ".py",
   "mimetype": "text/x-python",
   "name": "python",
   "nbconvert_exporter": "python",
   "pygments_lexer": "ipython3",
   "version": "3.8.3"
  }
 },
 "nbformat": 4,
 "nbformat_minor": 4
}
