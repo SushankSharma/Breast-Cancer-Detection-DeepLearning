{
 "cells": [
  {
   "cell_type": "code",
   "execution_count": 1,
   "metadata": {},
   "outputs": [],
   "source": [
    "import splitfolders"
   ]
  },
  {
   "cell_type": "code",
   "execution_count": 2,
   "metadata": {},
   "outputs": [
    {
     "name": "stderr",
     "output_type": "stream",
     "text": [
      "Copying files: 1025 files [01:10, 14.49 files/s]\n"
     ]
    }
   ],
   "source": [
    "splitfolders.ratio(\"F:/Breast-Cancer/Original\", output=\"F:/1\", seed=1337, ratio=(.6, .3, .1), group_prefix=None)"
   ]
  },
  {
   "cell_type": "code",
   "execution_count": 3,
   "metadata": {},
   "outputs": [
    {
     "name": "stderr",
     "output_type": "stream",
     "text": [
      "Copying files: 6345 files [07:36, 13.90 files/s]\n"
     ]
    }
   ],
   "source": [
    "splitfolders.ratio(\"F:/Breast-Cancer/Original-Augmented\", output=\"F:/original-aug\", seed=1337, ratio=(.65, .25, .1), group_prefix=None)"
   ]
  },
  {
   "cell_type": "code",
   "execution_count": 4,
   "metadata": {},
   "outputs": [
    {
     "name": "stderr",
     "output_type": "stream",
     "text": [
      "Copying files: 1025 files [00:57, 17.94 files/s]\n"
     ]
    }
   ],
   "source": [
    "splitfolders.ratio(\"F:/Breast-Cancer/Normalised\", output=\"F:/normalised\", seed=1337, ratio=(.6, .3, .1), group_prefix=None)"
   ]
  },
  {
   "cell_type": "code",
   "execution_count": 5,
   "metadata": {},
   "outputs": [
    {
     "name": "stderr",
     "output_type": "stream",
     "text": [
      "Copying files: 6345 files [08:34, 12.33 files/s]\n"
     ]
    }
   ],
   "source": [
    "splitfolders.ratio(\"F:/Breast-Cancer/Normalised-Augmented\", output=\"F:/normalised-aug\", seed=1337, ratio=(.65, .25, .1), group_prefix=None)"
   ]
  },
  {
   "cell_type": "code",
   "execution_count": 2,
   "metadata": {},
   "outputs": [
    {
     "name": "stderr",
     "output_type": "stream",
     "text": [
      "Copying files: 1025 files [00:54, 18.79 files/s]\n"
     ]
    }
   ],
   "source": [
    "splitfolders.ratio(\"F:/Dataset/\", output=\"F:/sushank\", seed=1337, ratio=(.6, .3, .1), group_prefix=None)"
   ]
  },
  {
   "cell_type": "code",
   "execution_count": null,
   "metadata": {},
   "outputs": [],
   "source": []
  }
 ],
 "metadata": {
  "kernelspec": {
   "display_name": "Python 3",
   "language": "python",
   "name": "python3"
  },
  "language_info": {
   "codemirror_mode": {
    "name": "ipython",
    "version": 3
   },
   "file_extension": ".py",
   "mimetype": "text/x-python",
   "name": "python",
   "nbconvert_exporter": "python",
   "pygments_lexer": "ipython3",
   "version": "3.8.3"
  }
 },
 "nbformat": 4,
 "nbformat_minor": 4
}
