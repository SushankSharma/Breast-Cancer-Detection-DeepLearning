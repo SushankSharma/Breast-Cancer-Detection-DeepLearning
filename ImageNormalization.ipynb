{
 "cells": [
  {
   "cell_type": "code",
   "execution_count": 1,
   "metadata": {},
   "outputs": [],
   "source": [
    "import numpy as np\n",
    "from keras.preprocessing.image import ImageDataGenerator, img_to_array, load_img\n",
    "from skimage import io\n",
    "import os\n",
    "from PIL import Image"
   ]
  },
  {
   "cell_type": "code",
   "execution_count": 2,
   "metadata": {},
   "outputs": [],
   "source": [
    "datagen =ImageDataGenerator(\n",
    "    featurewise_center=False,\n",
    "    samplewise_center=False,\n",
    "    featurewise_std_normalization=False,\n",
    "    samplewise_std_normalization=False,\n",
    "    zca_whitening=False,\n",
    "    zca_epsilon=1e-06,\n",
    "    rotation_range=0.1,\n",
    "    width_shift_range=0.1,\n",
    "    height_shift_range=0.1,\n",
    "    brightness_range=None,\n",
    "    shear_range=0.0,\n",
    "    zoom_range=0.1,\n",
    "    channel_shift_range=0.0,\n",
    "    fill_mode=\"reflect\",\n",
    "    cval=0.0,\n",
    "    horizontal_flip=True,\n",
    "    vertical_flip=True,\n",
    "    rescale=None,\n",
    "    preprocessing_function=None,\n",
    "    data_format=None,\n",
    "    validation_split=0.0,\n",
    "    dtype=None,\n",
    ")\n"
   ]
  },
  {
   "cell_type": "code",
   "execution_count": 3,
   "metadata": {},
   "outputs": [],
   "source": [
    "image_directory = 'F:/set/'\n",
    "SIZE = 224\n",
    "dataset=[]\n",
    "\n",
    "\n"
   ]
  },
  {
   "cell_type": "code",
   "execution_count": 4,
   "metadata": {},
   "outputs": [],
   "source": [
    "my_images = os.listdir(image_directory)\n",
    "for i, image_name in enumerate(my_images):\n",
    "    if (image_name.split('.')[1] == 'png'):\n",
    "        image = io.imread(image_directory + image_name)\n",
    "        image = Image.fromarray(image, 'RGB')\n",
    "        image = image.resize((700,460))\n",
    "        dataset.append(np.array(image))\n",
    "x=np.array(dataset)\n",
    "i = 0\n",
    "for batch in datagen.flow(x, batch_size=16,  \n",
    "                          save_to_dir='F:/Normal', \n",
    "                          save_prefix='aug', \n",
    "                          save_format='png'):\n",
    "    i += 1\n",
    "    if i > 5:\n",
    "        break \n",
    "        "
   ]
  },
  {
   "cell_type": "code",
   "execution_count": 19,
   "metadata": {},
   "outputs": [],
   "source": []
  },
  {
   "cell_type": "code",
   "execution_count": 5,
   "metadata": {},
   "outputs": [],
   "source": []
  },
  {
   "cell_type": "code",
   "execution_count": 6,
   "metadata": {},
   "outputs": [],
   "source": []
  },
  {
   "cell_type": "code",
   "execution_count": 7,
   "metadata": {},
   "outputs": [],
   "source": []
  },
  {
   "cell_type": "code",
   "execution_count": 8,
   "metadata": {},
   "outputs": [],
   "source": []
  },
  {
   "cell_type": "code",
   "execution_count": 9,
   "metadata": {},
   "outputs": [],
   "source": []
  },
  {
   "cell_type": "code",
   "execution_count": 10,
   "metadata": {},
   "outputs": [],
   "source": []
  },
  {
   "cell_type": "code",
   "execution_count": 11,
   "metadata": {},
   "outputs": [],
   "source": [
    "\n"
   ]
  },
  {
   "cell_type": "code",
   "execution_count": 12,
   "metadata": {},
   "outputs": [],
   "source": [
    "\n"
   ]
  },
  {
   "cell_type": "code",
   "execution_count": 13,
   "metadata": {},
   "outputs": [],
   "source": [
    "\n"
   ]
  },
  {
   "cell_type": "code",
   "execution_count": 14,
   "metadata": {},
   "outputs": [],
   "source": [
    "\n",
    "\n",
    "# Separating H and E components\n",
    "\n",
    "H = np.multiply(Io, np.exp(np.expand_dims(-HERef[:,0], axis=1).dot(np.expand_dims(C2[0,:], axis=0))))\n",
    "H[H>255] = 254\n",
    "H = np.reshape(H.T, (h, w, 3)).astype(np.uint8)\n",
    "\n",
    "E = np.multiply(Io, np.exp(np.expand_dims(-HERef[:,1], axis=1).dot(np.expand_dims(C2[1,:], axis=0))))\n",
    "E[E>255] = 254\n",
    "E = np.reshape(E.T, (h, w, 3)).astype(np.uint8)\n"
   ]
  },
  {
   "cell_type": "code",
   "execution_count": 15,
   "metadata": {},
   "outputs": [],
   "source": [
    "plt.imsave(\"F:/P-23-12/1a.png\", Inorm)\n",
    "plt.imsave(\"F:/P-23-12/1b.png\", H)\n",
    "plt.imsave(\"F:/P-23-12/1c.png\", E)"
   ]
  },
  {
   "cell_type": "code",
   "execution_count": 3,
   "metadata": {},
   "outputs": [
    {
     "ename": "ModuleNotFoundError",
     "evalue": "No module named 'spams'",
     "output_type": "error",
     "traceback": [
      "\u001b[1;31m---------------------------------------------------------------------------\u001b[0m",
      "\u001b[1;31mModuleNotFoundError\u001b[0m                       Traceback (most recent call last)",
      "\u001b[1;32m<ipython-input-3-372e1770e682>\u001b[0m in \u001b[0;36m<module>\u001b[1;34m\u001b[0m\n\u001b[1;32m----> 1\u001b[1;33m \u001b[1;32mimport\u001b[0m \u001b[0mstaintools\u001b[0m\u001b[1;33m\u001b[0m\u001b[1;33m\u001b[0m\u001b[0m\n\u001b[0m\u001b[0;32m      2\u001b[0m \u001b[1;32mimport\u001b[0m \u001b[0mspams\u001b[0m\u001b[1;33m\u001b[0m\u001b[1;33m\u001b[0m\u001b[0m\n\u001b[0;32m      3\u001b[0m \u001b[0mtarget\u001b[0m \u001b[1;33m=\u001b[0m \u001b[0mstaintools\u001b[0m\u001b[1;33m.\u001b[0m\u001b[0mread_image\u001b[0m\u001b[1;33m(\u001b[0m\u001b[1;34m\"./data/my_target_image.png\"\u001b[0m\u001b[1;33m)\u001b[0m\u001b[1;33m\u001b[0m\u001b[1;33m\u001b[0m\u001b[0m\n\u001b[0;32m      4\u001b[0m \u001b[0mto_transform\u001b[0m \u001b[1;33m=\u001b[0m \u001b[0mstaintools\u001b[0m\u001b[1;33m.\u001b[0m\u001b[0mread_image\u001b[0m\u001b[1;33m(\u001b[0m\u001b[1;34m\"./data/my_image_to_transform.png\"\u001b[0m\u001b[1;33m)\u001b[0m\u001b[1;33m\u001b[0m\u001b[1;33m\u001b[0m\u001b[0m\n",
      "\u001b[1;32m~\\anaconda3\\lib\\site-packages\\staintools\\__init__.py\u001b[0m in \u001b[0;36m<module>\u001b[1;34m\u001b[0m\n\u001b[0;32m      3\u001b[0m     \u001b[1;32mraise\u001b[0m \u001b[0mException\u001b[0m\u001b[1;33m(\u001b[0m\u001b[1;34m\"Error: You are not running Python 3.\"\u001b[0m\u001b[1;33m)\u001b[0m\u001b[1;33m\u001b[0m\u001b[1;33m\u001b[0m\u001b[0m\n\u001b[0;32m      4\u001b[0m \u001b[1;33m\u001b[0m\u001b[0m\n\u001b[1;32m----> 5\u001b[1;33m \u001b[1;32mfrom\u001b[0m \u001b[0mstaintools\u001b[0m\u001b[1;33m.\u001b[0m\u001b[0mstain_extraction\u001b[0m\u001b[1;33m.\u001b[0m\u001b[0mvahadane_stain_extractor\u001b[0m \u001b[1;32mimport\u001b[0m \u001b[0mVahadaneStainExtractor\u001b[0m\u001b[1;33m\u001b[0m\u001b[1;33m\u001b[0m\u001b[0m\n\u001b[0m\u001b[0;32m      6\u001b[0m \u001b[1;32mfrom\u001b[0m \u001b[0mstaintools\u001b[0m\u001b[1;33m.\u001b[0m\u001b[0mstain_extraction\u001b[0m\u001b[1;33m.\u001b[0m\u001b[0mmacenko_stain_extractor\u001b[0m \u001b[1;32mimport\u001b[0m \u001b[0mMacenkoStainExtractor\u001b[0m\u001b[1;33m\u001b[0m\u001b[1;33m\u001b[0m\u001b[0m\n\u001b[0;32m      7\u001b[0m \u001b[1;33m\u001b[0m\u001b[0m\n",
      "\u001b[1;32m~\\anaconda3\\lib\\site-packages\\staintools\\stain_extraction\\vahadane_stain_extractor.py\u001b[0m in \u001b[0;36m<module>\u001b[1;34m\u001b[0m\n\u001b[1;32m----> 1\u001b[1;33m \u001b[1;32mimport\u001b[0m \u001b[0mspams\u001b[0m\u001b[1;33m\u001b[0m\u001b[1;33m\u001b[0m\u001b[0m\n\u001b[0m\u001b[0;32m      2\u001b[0m \u001b[1;33m\u001b[0m\u001b[0m\n\u001b[0;32m      3\u001b[0m \u001b[1;32mfrom\u001b[0m \u001b[0mstaintools\u001b[0m\u001b[1;33m.\u001b[0m\u001b[0mstain_extraction\u001b[0m\u001b[1;33m.\u001b[0m\u001b[0mabc_stain_extractor\u001b[0m \u001b[1;32mimport\u001b[0m \u001b[0mABCStainExtractor\u001b[0m\u001b[1;33m\u001b[0m\u001b[1;33m\u001b[0m\u001b[0m\n\u001b[0;32m      4\u001b[0m \u001b[1;32mfrom\u001b[0m \u001b[0mstaintools\u001b[0m\u001b[1;33m.\u001b[0m\u001b[0mmiscellaneous\u001b[0m\u001b[1;33m.\u001b[0m\u001b[0mmiscellaneous_functions\u001b[0m \u001b[1;32mimport\u001b[0m \u001b[0mnormalize_matrix_rows\u001b[0m\u001b[1;33m\u001b[0m\u001b[1;33m\u001b[0m\u001b[0m\n\u001b[0;32m      5\u001b[0m \u001b[1;32mfrom\u001b[0m \u001b[0mstaintools\u001b[0m\u001b[1;33m.\u001b[0m\u001b[0mmiscellaneous\u001b[0m\u001b[1;33m.\u001b[0m\u001b[0moptical_density_conversion\u001b[0m \u001b[1;32mimport\u001b[0m \u001b[0mconvert_RGB_to_OD\u001b[0m\u001b[1;33m\u001b[0m\u001b[1;33m\u001b[0m\u001b[0m\n",
      "\u001b[1;31mModuleNotFoundError\u001b[0m: No module named 'spams'"
     ]
    }
   ],
   "source": [
    "import staintools\n",
    "import spams\n",
    "target = staintools.read_image(\"./data/my_target_image.png\")\n",
    "to_transform = staintools.read_image(\"./data/my_image_to_transform.png\")"
   ]
  },
  {
   "cell_type": "code",
   "execution_count": 6,
   "metadata": {},
   "outputs": [
    {
     "name": "stdout",
     "output_type": "stream",
     "text": [
      "Collecting spams\n",
      "  Using cached spams-2.6.2.5.tar.gz (1.6 MB)\n",
      "Requirement already satisfied: Cython>=0.29 in c:\\users\\prakash\\anaconda3\\lib\\site-packages (from spams) (0.29.21)\n",
      "Requirement already satisfied: numpy>=1.12 in c:\\users\\prakash\\anaconda3\\lib\\site-packages (from spams) (1.18.5)\n",
      "Requirement already satisfied: Pillow>=6.0 in c:\\users\\prakash\\anaconda3\\lib\\site-packages (from spams) (7.2.0)\n",
      "Requirement already satisfied: scipy>=1.0 in c:\\users\\prakash\\anaconda3\\lib\\site-packages (from spams) (1.5.0)\n",
      "Requirement already satisfied: six>=1.12 in c:\\users\\prakash\\anaconda3\\lib\\site-packages (from spams) (1.15.0)\n",
      "Building wheels for collected packages: spams\n",
      "  Building wheel for spams (setup.py): started\n",
      "  Building wheel for spams (setup.py): finished with status 'error'\n",
      "  Running setup.py clean for spams\n",
      "Failed to build spams\n",
      "Installing collected packages: spams\n",
      "    Running setup.py install for spams: started\n",
      "    Running setup.py install for spams: finished with status 'error'\n"
     ]
    },
    {
     "name": "stderr",
     "output_type": "stream",
     "text": [
      "  ERROR: Command errored out with exit status 1:\n",
      "   command: 'C:\\Users\\Prakash\\anaconda3\\python.exe' -u -c 'import sys, setuptools, tokenize; sys.argv[0] = '\"'\"'C:\\\\Users\\\\Prakash\\\\AppData\\\\Local\\\\Temp\\\\pip-install-oo30_ddc\\\\spams\\\\setup.py'\"'\"'; __file__='\"'\"'C:\\\\Users\\\\Prakash\\\\AppData\\\\Local\\\\Temp\\\\pip-install-oo30_ddc\\\\spams\\\\setup.py'\"'\"';f=getattr(tokenize, '\"'\"'open'\"'\"', open)(__file__);code=f.read().replace('\"'\"'\\r\\n'\"'\"', '\"'\"'\\n'\"'\"');f.close();exec(compile(code, __file__, '\"'\"'exec'\"'\"'))' bdist_wheel -d 'C:\\Users\\Prakash\\AppData\\Local\\Temp\\pip-wheel-bp0jyjmd'\n",
      "       cwd: C:\\Users\\Prakash\\AppData\\Local\\Temp\\pip-install-oo30_ddc\\spams\\\n",
      "  Complete output (49 lines):\n",
      "  running bdist_wheel\n",
      "  running build\n",
      "  running build_py\n",
      "  creating build\n",
      "  creating build\\lib.win-amd64-3.8\n",
      "  creating build\\lib.win-amd64-3.8\\myscipy_rand\n",
      "  copying myscipy_rand\\myscipy_rand.py -> build\\lib.win-amd64-3.8\\myscipy_rand\n",
      "  copying myscipy_rand\\__init__.py -> build\\lib.win-amd64-3.8\\myscipy_rand\n",
      "  creating build\\lib.win-amd64-3.8\\spams\n",
      "  copying spams\\spams.py -> build\\lib.win-amd64-3.8\\spams\n",
      "  copying spams\\__init__.py -> build\\lib.win-amd64-3.8\\spams\n",
      "  creating build\\lib.win-amd64-3.8\\spams_wrap\n",
      "  copying spams_wrap\\spams_wrap.py -> build\\lib.win-amd64-3.8\\spams_wrap\n",
      "  copying spams_wrap\\__init__.py -> build\\lib.win-amd64-3.8\\spams_wrap\n",
      "  running egg_info\n",
      "  writing spams.egg-info\\PKG-INFO\n",
      "  writing dependency_links to spams.egg-info\\dependency_links.txt\n",
      "  writing requirements to spams.egg-info\\requires.txt\n",
      "  writing top-level names to spams.egg-info\\top_level.txt\n",
      "  reading manifest file 'spams.egg-info\\SOURCES.txt'\n",
      "  reading manifest template 'MANIFEST.in'\n",
      "  writing manifest file 'spams.egg-info\\SOURCES.txt'\n",
      "  copying spams_wrap\\spams.h -> build\\lib.win-amd64-3.8\\spams_wrap\n",
      "  copying spams_wrap\\spams_wrap.cpp -> build\\lib.win-amd64-3.8\\spams_wrap\n",
      "  creating build\\lib.win-amd64-3.8\\spams_wrap\\decomp\n",
      "  copying spams_wrap\\decomp\\decomp.h -> build\\lib.win-amd64-3.8\\spams_wrap\\decomp\n",
      "  copying spams_wrap\\decomp\\lsqsplx.h -> build\\lib.win-amd64-3.8\\spams_wrap\\decomp\n",
      "  copying spams_wrap\\decomp\\projsplx.h -> build\\lib.win-amd64-3.8\\spams_wrap\\decomp\n",
      "  creating build\\lib.win-amd64-3.8\\spams_wrap\\dictLearn\n",
      "  copying spams_wrap\\dictLearn\\arch.h -> build\\lib.win-amd64-3.8\\spams_wrap\\dictLearn\n",
      "  copying spams_wrap\\dictLearn\\dicts.h -> build\\lib.win-amd64-3.8\\spams_wrap\\dictLearn\n",
      "  creating build\\lib.win-amd64-3.8\\spams_wrap\\linalg\n",
      "  copying spams_wrap\\linalg\\cblas_alt_template.h -> build\\lib.win-amd64-3.8\\spams_wrap\\linalg\n",
      "  copying spams_wrap\\linalg\\cblas_defvar.h -> build\\lib.win-amd64-3.8\\spams_wrap\\linalg\n",
      "  copying spams_wrap\\linalg\\cblas_template.h -> build\\lib.win-amd64-3.8\\spams_wrap\\linalg\n",
      "  copying spams_wrap\\linalg\\linalg.h -> build\\lib.win-amd64-3.8\\spams_wrap\\linalg\n",
      "  copying spams_wrap\\linalg\\list.h -> build\\lib.win-amd64-3.8\\spams_wrap\\linalg\n",
      "  copying spams_wrap\\linalg\\mexutils.h -> build\\lib.win-amd64-3.8\\spams_wrap\\linalg\n",
      "  copying spams_wrap\\linalg\\misc.h -> build\\lib.win-amd64-3.8\\spams_wrap\\linalg\n",
      "  copying spams_wrap\\linalg\\utils.h -> build\\lib.win-amd64-3.8\\spams_wrap\\linalg\n",
      "  creating build\\lib.win-amd64-3.8\\spams_wrap\\prox\n",
      "  copying spams_wrap\\prox\\fista.h -> build\\lib.win-amd64-3.8\\spams_wrap\\prox\n",
      "  copying spams_wrap\\prox\\groups-graph.h -> build\\lib.win-amd64-3.8\\spams_wrap\\prox\n",
      "  copying spams_wrap\\prox\\mexgrouputils.h -> build\\lib.win-amd64-3.8\\spams_wrap\\prox\n",
      "  copying spams_wrap\\prox\\project.h -> build\\lib.win-amd64-3.8\\spams_wrap\\prox\n",
      "  copying spams_wrap\\prox\\surrogate.h -> build\\lib.win-amd64-3.8\\spams_wrap\\prox\n",
      "  copying spams_wrap\\prox\\svm.h -> build\\lib.win-amd64-3.8\\spams_wrap\\prox\n",
      "  running build_ext\n",
      "  error: Microsoft Visual C++ 14.0 is required. Get it with \"Build Tools for Visual Studio\": https://visualstudio.microsoft.com/downloads/\n",
      "  ----------------------------------------\n",
      "  ERROR: Failed building wheel for spams\n",
      "    ERROR: Command errored out with exit status 1:\n",
      "     command: 'C:\\Users\\Prakash\\anaconda3\\python.exe' -u -c 'import sys, setuptools, tokenize; sys.argv[0] = '\"'\"'C:\\\\Users\\\\Prakash\\\\AppData\\\\Local\\\\Temp\\\\pip-install-oo30_ddc\\\\spams\\\\setup.py'\"'\"'; __file__='\"'\"'C:\\\\Users\\\\Prakash\\\\AppData\\\\Local\\\\Temp\\\\pip-install-oo30_ddc\\\\spams\\\\setup.py'\"'\"';f=getattr(tokenize, '\"'\"'open'\"'\"', open)(__file__);code=f.read().replace('\"'\"'\\r\\n'\"'\"', '\"'\"'\\n'\"'\"');f.close();exec(compile(code, __file__, '\"'\"'exec'\"'\"'))' install --record 'C:\\Users\\Prakash\\AppData\\Local\\Temp\\pip-record-vk3cmy7l\\install-record.txt' --single-version-externally-managed --compile --install-headers 'C:\\Users\\Prakash\\anaconda3\\Include\\spams'\n",
      "         cwd: C:\\Users\\Prakash\\AppData\\Local\\Temp\\pip-install-oo30_ddc\\spams\\\n",
      "    Complete output (49 lines):\n",
      "    running install\n",
      "    running build\n",
      "    running build_py\n",
      "    creating build\n",
      "    creating build\\lib.win-amd64-3.8\n",
      "    creating build\\lib.win-amd64-3.8\\myscipy_rand\n",
      "    copying myscipy_rand\\myscipy_rand.py -> build\\lib.win-amd64-3.8\\myscipy_rand\n",
      "    copying myscipy_rand\\__init__.py -> build\\lib.win-amd64-3.8\\myscipy_rand\n",
      "    creating build\\lib.win-amd64-3.8\\spams\n",
      "    copying spams\\spams.py -> build\\lib.win-amd64-3.8\\spams\n",
      "    copying spams\\__init__.py -> build\\lib.win-amd64-3.8\\spams\n",
      "    creating build\\lib.win-amd64-3.8\\spams_wrap\n",
      "    copying spams_wrap\\spams_wrap.py -> build\\lib.win-amd64-3.8\\spams_wrap\n",
      "    copying spams_wrap\\__init__.py -> build\\lib.win-amd64-3.8\\spams_wrap\n",
      "    running egg_info\n",
      "    writing spams.egg-info\\PKG-INFO\n",
      "    writing dependency_links to spams.egg-info\\dependency_links.txt\n",
      "    writing requirements to spams.egg-info\\requires.txt\n",
      "    writing top-level names to spams.egg-info\\top_level.txt\n",
      "    reading manifest file 'spams.egg-info\\SOURCES.txt'\n",
      "    reading manifest template 'MANIFEST.in'\n",
      "    writing manifest file 'spams.egg-info\\SOURCES.txt'\n",
      "    copying spams_wrap\\spams.h -> build\\lib.win-amd64-3.8\\spams_wrap\n",
      "    copying spams_wrap\\spams_wrap.cpp -> build\\lib.win-amd64-3.8\\spams_wrap\n",
      "    creating build\\lib.win-amd64-3.8\\spams_wrap\\decomp\n",
      "    copying spams_wrap\\decomp\\decomp.h -> build\\lib.win-amd64-3.8\\spams_wrap\\decomp\n",
      "    copying spams_wrap\\decomp\\lsqsplx.h -> build\\lib.win-amd64-3.8\\spams_wrap\\decomp\n",
      "    copying spams_wrap\\decomp\\projsplx.h -> build\\lib.win-amd64-3.8\\spams_wrap\\decomp\n",
      "    creating build\\lib.win-amd64-3.8\\spams_wrap\\dictLearn\n",
      "    copying spams_wrap\\dictLearn\\arch.h -> build\\lib.win-amd64-3.8\\spams_wrap\\dictLearn\n",
      "    copying spams_wrap\\dictLearn\\dicts.h -> build\\lib.win-amd64-3.8\\spams_wrap\\dictLearn\n",
      "    creating build\\lib.win-amd64-3.8\\spams_wrap\\linalg\n",
      "    copying spams_wrap\\linalg\\cblas_alt_template.h -> build\\lib.win-amd64-3.8\\spams_wrap\\linalg\n",
      "    copying spams_wrap\\linalg\\cblas_defvar.h -> build\\lib.win-amd64-3.8\\spams_wrap\\linalg\n",
      "    copying spams_wrap\\linalg\\cblas_template.h -> build\\lib.win-amd64-3.8\\spams_wrap\\linalg\n",
      "    copying spams_wrap\\linalg\\linalg.h -> build\\lib.win-amd64-3.8\\spams_wrap\\linalg\n",
      "    copying spams_wrap\\linalg\\list.h -> build\\lib.win-amd64-3.8\\spams_wrap\\linalg\n",
      "    copying spams_wrap\\linalg\\mexutils.h -> build\\lib.win-amd64-3.8\\spams_wrap\\linalg\n",
      "    copying spams_wrap\\linalg\\misc.h -> build\\lib.win-amd64-3.8\\spams_wrap\\linalg\n",
      "    copying spams_wrap\\linalg\\utils.h -> build\\lib.win-amd64-3.8\\spams_wrap\\linalg\n",
      "    creating build\\lib.win-amd64-3.8\\spams_wrap\\prox\n",
      "    copying spams_wrap\\prox\\fista.h -> build\\lib.win-amd64-3.8\\spams_wrap\\prox\n",
      "    copying spams_wrap\\prox\\groups-graph.h -> build\\lib.win-amd64-3.8\\spams_wrap\\prox\n",
      "    copying spams_wrap\\prox\\mexgrouputils.h -> build\\lib.win-amd64-3.8\\spams_wrap\\prox\n",
      "    copying spams_wrap\\prox\\project.h -> build\\lib.win-amd64-3.8\\spams_wrap\\prox\n",
      "    copying spams_wrap\\prox\\surrogate.h -> build\\lib.win-amd64-3.8\\spams_wrap\\prox\n",
      "    copying spams_wrap\\prox\\svm.h -> build\\lib.win-amd64-3.8\\spams_wrap\\prox\n",
      "    running build_ext\n",
      "    error: Microsoft Visual C++ 14.0 is required. Get it with \"Build Tools for Visual Studio\": https://visualstudio.microsoft.com/downloads/\n",
      "    ----------------------------------------\n",
      "ERROR: Command errored out with exit status 1: 'C:\\Users\\Prakash\\anaconda3\\python.exe' -u -c 'import sys, setuptools, tokenize; sys.argv[0] = '\"'\"'C:\\\\Users\\\\Prakash\\\\AppData\\\\Local\\\\Temp\\\\pip-install-oo30_ddc\\\\spams\\\\setup.py'\"'\"'; __file__='\"'\"'C:\\\\Users\\\\Prakash\\\\AppData\\\\Local\\\\Temp\\\\pip-install-oo30_ddc\\\\spams\\\\setup.py'\"'\"';f=getattr(tokenize, '\"'\"'open'\"'\"', open)(__file__);code=f.read().replace('\"'\"'\\r\\n'\"'\"', '\"'\"'\\n'\"'\"');f.close();exec(compile(code, __file__, '\"'\"'exec'\"'\"'))' install --record 'C:\\Users\\Prakash\\AppData\\Local\\Temp\\pip-record-vk3cmy7l\\install-record.txt' --single-version-externally-managed --compile --install-headers 'C:\\Users\\Prakash\\anaconda3\\Include\\spams' Check the logs for full command output.\n"
     ]
    }
   ],
   "source": [
    "!pip install spams"
   ]
  },
  {
   "cell_type": "code",
   "execution_count": 5,
   "metadata": {},
   "outputs": [
    {
     "ename": "ModuleNotFoundError",
     "evalue": "No module named 'spams'",
     "output_type": "error",
     "traceback": [
      "\u001b[1;31m---------------------------------------------------------------------------\u001b[0m",
      "\u001b[1;31mModuleNotFoundError\u001b[0m                       Traceback (most recent call last)",
      "\u001b[1;32m<ipython-input-5-8cbda7bdedb2>\u001b[0m in \u001b[0;36m<module>\u001b[1;34m\u001b[0m\n\u001b[1;32m----> 1\u001b[1;33m \u001b[1;32mimport\u001b[0m \u001b[0mspams\u001b[0m\u001b[1;33m\u001b[0m\u001b[1;33m\u001b[0m\u001b[0m\n\u001b[0m",
      "\u001b[1;31mModuleNotFoundError\u001b[0m: No module named 'spams'"
     ]
    }
   ],
   "source": [
    "import spams"
   ]
  },
  {
   "cell_type": "code",
   "execution_count": null,
   "metadata": {},
   "outputs": [],
   "source": []
  }
 ],
 "metadata": {
  "kernelspec": {
   "display_name": "Python 3",
   "language": "python",
   "name": "python3"
  },
  "language_info": {
   "codemirror_mode": {
    "name": "ipython",
    "version": 3
   },
   "file_extension": ".py",
   "mimetype": "text/x-python",
   "name": "python",
   "nbconvert_exporter": "python",
   "pygments_lexer": "ipython3",
   "version": "3.8.3"
  }
 },
 "nbformat": 4,
 "nbformat_minor": 4
}
